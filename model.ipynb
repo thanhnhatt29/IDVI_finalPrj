{
 "cells": [
  {
   "cell_type": "code",
   "execution_count": 10,
   "metadata": {},
   "outputs": [],
   "source": [
    "import pandas as pd\n",
    "import numpy as np\n",
    "import matplotlib.pyplot as plt\n",
    "import seaborn as sns\n",
    "import time\n",
    "import matplotlib.ticker as ticker\n",
    "import seaborn as sns "
   ]
  },
  {
   "cell_type": "code",
   "execution_count": 3,
   "metadata": {},
   "outputs": [],
   "source": [
    "df = pd.read_csv('train.csv') #Read the dataset"
   ]
  },
  {
   "cell_type": "code",
   "execution_count": 4,
   "metadata": {},
   "outputs": [],
   "source": [
    "df.drop('Row ID',axis = 1, inplace = True) #Dropping the Row ID column\n",
    "df['Order Date'] = pd.to_datetime(df['Order Date'], format='%d/%m/%Y') #convert Order dates to pandas datetime format\n",
    "df['Ship Date'] = pd.to_datetime(df['Ship Date'], format='%d/%m/%Y')   #convert shipping dates to pandas datetime format"
   ]
  },
  {
   "cell_type": "code",
   "execution_count": 5,
   "metadata": {},
   "outputs": [],
   "source": [
    "#sorting data by order date\n",
    "df.sort_values(by=['Order Date'], inplace=True, ascending=True)"
   ]
  },
  {
   "cell_type": "code",
   "execution_count": 6,
   "metadata": {},
   "outputs": [],
   "source": [
    "#setting the index to be the date will help us a lot later on\n",
    "df.set_index(\"Order Date\", inplace = True)"
   ]
  },
  {
   "cell_type": "code",
   "execution_count": 9,
   "metadata": {},
   "outputs": [],
   "source": [
    "df['Postal Code'] = df['Postal Code'].fillna(5401) # Postal code for Burlington city\n",
    "df.nunique()\n",
    "df.to_csv('welldone.csv')"
   ]
  },
  {
   "cell_type": "code",
   "execution_count": 12,
   "metadata": {},
   "outputs": [
    {
     "data": {
      "text/html": [
       "<div>\n",
       "<style scoped>\n",
       "    .dataframe tbody tr th:only-of-type {\n",
       "        vertical-align: middle;\n",
       "    }\n",
       "\n",
       "    .dataframe tbody tr th {\n",
       "        vertical-align: top;\n",
       "    }\n",
       "\n",
       "    .dataframe thead th {\n",
       "        text-align: right;\n",
       "    }\n",
       "</style>\n",
       "<table border=\"1\" class=\"dataframe\">\n",
       "  <thead>\n",
       "    <tr style=\"text-align: right;\">\n",
       "      <th></th>\n",
       "      <th>Ship Date</th>\n",
       "      <th>Ship Mode</th>\n",
       "      <th>Customer ID</th>\n",
       "      <th>Customer Name</th>\n",
       "      <th>Segment</th>\n",
       "      <th>Country</th>\n",
       "      <th>City</th>\n",
       "      <th>State</th>\n",
       "      <th>Postal Code</th>\n",
       "      <th>Region</th>\n",
       "      <th>Product ID</th>\n",
       "      <th>Category</th>\n",
       "      <th>Sub-Category</th>\n",
       "      <th>Product Name</th>\n",
       "    </tr>\n",
       "    <tr>\n",
       "      <th>Order Date</th>\n",
       "      <th></th>\n",
       "      <th></th>\n",
       "      <th></th>\n",
       "      <th></th>\n",
       "      <th></th>\n",
       "      <th></th>\n",
       "      <th></th>\n",
       "      <th></th>\n",
       "      <th></th>\n",
       "      <th></th>\n",
       "      <th></th>\n",
       "      <th></th>\n",
       "      <th></th>\n",
       "      <th></th>\n",
       "    </tr>\n",
       "  </thead>\n",
       "  <tbody>\n",
       "    <tr>\n",
       "      <th>2016-09-12</th>\n",
       "      <td>2016-09-17</td>\n",
       "      <td>Standard Class</td>\n",
       "      <td>PG-18895</td>\n",
       "      <td>Paul Gonzalez</td>\n",
       "      <td>Consumer</td>\n",
       "      <td>United States</td>\n",
       "      <td>New York City</td>\n",
       "      <td>New York</td>\n",
       "      <td>10035.0</td>\n",
       "      <td>East</td>\n",
       "      <td>OFF-LA-10001317</td>\n",
       "      <td>Office Supplies</td>\n",
       "      <td>Labels</td>\n",
       "      <td>Avery 520</td>\n",
       "    </tr>\n",
       "    <tr>\n",
       "      <th>2016-09-25</th>\n",
       "      <td>2016-09-29</td>\n",
       "      <td>Standard Class</td>\n",
       "      <td>EH-13990</td>\n",
       "      <td>Erica Hackney</td>\n",
       "      <td>Consumer</td>\n",
       "      <td>United States</td>\n",
       "      <td>Meriden</td>\n",
       "      <td>Connecticut</td>\n",
       "      <td>6450.0</td>\n",
       "      <td>East</td>\n",
       "      <td>OFF-AR-10004930</td>\n",
       "      <td>Office Supplies</td>\n",
       "      <td>Art</td>\n",
       "      <td>Turquoise Lead Holder with Pocket Clip</td>\n",
       "    </tr>\n",
       "    <tr>\n",
       "      <th>2017-12-30</th>\n",
       "      <td>2018-01-04</td>\n",
       "      <td>Standard Class</td>\n",
       "      <td>BM-11785</td>\n",
       "      <td>Bryan Mills</td>\n",
       "      <td>Consumer</td>\n",
       "      <td>United States</td>\n",
       "      <td>Columbus</td>\n",
       "      <td>Ohio</td>\n",
       "      <td>43229.0</td>\n",
       "      <td>East</td>\n",
       "      <td>OFF-SU-10001664</td>\n",
       "      <td>Office Supplies</td>\n",
       "      <td>Supplies</td>\n",
       "      <td>Acme Office Executive Series Stainless Steel T...</td>\n",
       "    </tr>\n",
       "    <tr>\n",
       "      <th>2015-10-18</th>\n",
       "      <td>2015-10-22</td>\n",
       "      <td>Standard Class</td>\n",
       "      <td>EH-13765</td>\n",
       "      <td>Edward Hooks</td>\n",
       "      <td>Corporate</td>\n",
       "      <td>United States</td>\n",
       "      <td>Philadelphia</td>\n",
       "      <td>Pennsylvania</td>\n",
       "      <td>19134.0</td>\n",
       "      <td>East</td>\n",
       "      <td>OFF-PA-10003016</td>\n",
       "      <td>Office Supplies</td>\n",
       "      <td>Paper</td>\n",
       "      <td>Adams \"While You Were Out\" Message Pads</td>\n",
       "    </tr>\n",
       "    <tr>\n",
       "      <th>2018-04-24</th>\n",
       "      <td>2018-04-27</td>\n",
       "      <td>First Class</td>\n",
       "      <td>LS-16945</td>\n",
       "      <td>Linda Southworth</td>\n",
       "      <td>Corporate</td>\n",
       "      <td>United States</td>\n",
       "      <td>Providence</td>\n",
       "      <td>Rhode Island</td>\n",
       "      <td>2908.0</td>\n",
       "      <td>East</td>\n",
       "      <td>TEC-AC-10004855</td>\n",
       "      <td>Technology</td>\n",
       "      <td>Accessories</td>\n",
       "      <td>V7 USB Numeric Keypad</td>\n",
       "    </tr>\n",
       "    <tr>\n",
       "      <th>...</th>\n",
       "      <td>...</td>\n",
       "      <td>...</td>\n",
       "      <td>...</td>\n",
       "      <td>...</td>\n",
       "      <td>...</td>\n",
       "      <td>...</td>\n",
       "      <td>...</td>\n",
       "      <td>...</td>\n",
       "      <td>...</td>\n",
       "      <td>...</td>\n",
       "      <td>...</td>\n",
       "      <td>...</td>\n",
       "      <td>...</td>\n",
       "      <td>...</td>\n",
       "    </tr>\n",
       "    <tr>\n",
       "      <th>2018-07-27</th>\n",
       "      <td>2018-08-01</td>\n",
       "      <td>Second Class</td>\n",
       "      <td>DK-13375</td>\n",
       "      <td>Dennis Kane</td>\n",
       "      <td>Consumer</td>\n",
       "      <td>United States</td>\n",
       "      <td>Seattle</td>\n",
       "      <td>Washington</td>\n",
       "      <td>98115.0</td>\n",
       "      <td>West</td>\n",
       "      <td>TEC-AC-10000991</td>\n",
       "      <td>Technology</td>\n",
       "      <td>Accessories</td>\n",
       "      <td>Sony Micro Vault Click 8 GB USB 2.0 Flash Drive</td>\n",
       "    </tr>\n",
       "    <tr>\n",
       "      <th>2018-11-21</th>\n",
       "      <td>2018-11-25</td>\n",
       "      <td>Standard Class</td>\n",
       "      <td>PJ-18835</td>\n",
       "      <td>Patrick Jones</td>\n",
       "      <td>Corporate</td>\n",
       "      <td>United States</td>\n",
       "      <td>San Francisco</td>\n",
       "      <td>California</td>\n",
       "      <td>94122.0</td>\n",
       "      <td>West</td>\n",
       "      <td>OFF-AR-10003394</td>\n",
       "      <td>Office Supplies</td>\n",
       "      <td>Art</td>\n",
       "      <td>Newell 332</td>\n",
       "    </tr>\n",
       "    <tr>\n",
       "      <th>2017-06-20</th>\n",
       "      <td>2017-06-24</td>\n",
       "      <td>Standard Class</td>\n",
       "      <td>CG-12040</td>\n",
       "      <td>Catherine Glotzbach</td>\n",
       "      <td>Home Office</td>\n",
       "      <td>United States</td>\n",
       "      <td>Philadelphia</td>\n",
       "      <td>Pennsylvania</td>\n",
       "      <td>19120.0</td>\n",
       "      <td>East</td>\n",
       "      <td>OFF-PA-10001870</td>\n",
       "      <td>Office Supplies</td>\n",
       "      <td>Paper</td>\n",
       "      <td>Xerox 202</td>\n",
       "    </tr>\n",
       "    <tr>\n",
       "      <th>2016-10-09</th>\n",
       "      <td>2016-10-12</td>\n",
       "      <td>Second Class</td>\n",
       "      <td>BM-11650</td>\n",
       "      <td>Brian Moss</td>\n",
       "      <td>Corporate</td>\n",
       "      <td>United States</td>\n",
       "      <td>Ann Arbor</td>\n",
       "      <td>Michigan</td>\n",
       "      <td>48104.0</td>\n",
       "      <td>Central</td>\n",
       "      <td>TEC-AC-10002049</td>\n",
       "      <td>Technology</td>\n",
       "      <td>Accessories</td>\n",
       "      <td>Logitech G19 Programmable Gaming Keyboard</td>\n",
       "    </tr>\n",
       "    <tr>\n",
       "      <th>2016-07-20</th>\n",
       "      <td>2016-07-27</td>\n",
       "      <td>Standard Class</td>\n",
       "      <td>RA-19915</td>\n",
       "      <td>Russell Applegate</td>\n",
       "      <td>Consumer</td>\n",
       "      <td>United States</td>\n",
       "      <td>Highland Park</td>\n",
       "      <td>Illinois</td>\n",
       "      <td>60035.0</td>\n",
       "      <td>Central</td>\n",
       "      <td>FUR-BO-10002545</td>\n",
       "      <td>Furniture</td>\n",
       "      <td>Bookcases</td>\n",
       "      <td>Atlantic Metals Mobile 3-Shelf Bookcases, Cust...</td>\n",
       "    </tr>\n",
       "  </tbody>\n",
       "</table>\n",
       "<p>7840 rows × 14 columns</p>\n",
       "</div>"
      ],
      "text/plain": [
       "            Ship Date       Ship Mode Customer ID        Customer Name  \\\n",
       "Order Date                                                               \n",
       "2016-09-12 2016-09-17  Standard Class    PG-18895        Paul Gonzalez   \n",
       "2016-09-25 2016-09-29  Standard Class    EH-13990        Erica Hackney   \n",
       "2017-12-30 2018-01-04  Standard Class    BM-11785          Bryan Mills   \n",
       "2015-10-18 2015-10-22  Standard Class    EH-13765         Edward Hooks   \n",
       "2018-04-24 2018-04-27     First Class    LS-16945     Linda Southworth   \n",
       "...               ...             ...         ...                  ...   \n",
       "2018-07-27 2018-08-01    Second Class    DK-13375          Dennis Kane   \n",
       "2018-11-21 2018-11-25  Standard Class    PJ-18835        Patrick Jones   \n",
       "2017-06-20 2017-06-24  Standard Class    CG-12040  Catherine Glotzbach   \n",
       "2016-10-09 2016-10-12    Second Class    BM-11650           Brian Moss   \n",
       "2016-07-20 2016-07-27  Standard Class    RA-19915    Russell Applegate   \n",
       "\n",
       "                Segment        Country           City         State  \\\n",
       "Order Date                                                            \n",
       "2016-09-12     Consumer  United States  New York City      New York   \n",
       "2016-09-25     Consumer  United States        Meriden   Connecticut   \n",
       "2017-12-30     Consumer  United States       Columbus          Ohio   \n",
       "2015-10-18    Corporate  United States   Philadelphia  Pennsylvania   \n",
       "2018-04-24    Corporate  United States     Providence  Rhode Island   \n",
       "...                 ...            ...            ...           ...   \n",
       "2018-07-27     Consumer  United States        Seattle    Washington   \n",
       "2018-11-21    Corporate  United States  San Francisco    California   \n",
       "2017-06-20  Home Office  United States   Philadelphia  Pennsylvania   \n",
       "2016-10-09    Corporate  United States      Ann Arbor      Michigan   \n",
       "2016-07-20     Consumer  United States  Highland Park      Illinois   \n",
       "\n",
       "            Postal Code   Region       Product ID         Category  \\\n",
       "Order Date                                                           \n",
       "2016-09-12      10035.0     East  OFF-LA-10001317  Office Supplies   \n",
       "2016-09-25       6450.0     East  OFF-AR-10004930  Office Supplies   \n",
       "2017-12-30      43229.0     East  OFF-SU-10001664  Office Supplies   \n",
       "2015-10-18      19134.0     East  OFF-PA-10003016  Office Supplies   \n",
       "2018-04-24       2908.0     East  TEC-AC-10004855       Technology   \n",
       "...                 ...      ...              ...              ...   \n",
       "2018-07-27      98115.0     West  TEC-AC-10000991       Technology   \n",
       "2018-11-21      94122.0     West  OFF-AR-10003394  Office Supplies   \n",
       "2017-06-20      19120.0     East  OFF-PA-10001870  Office Supplies   \n",
       "2016-10-09      48104.0  Central  TEC-AC-10002049       Technology   \n",
       "2016-07-20      60035.0  Central  FUR-BO-10002545        Furniture   \n",
       "\n",
       "           Sub-Category                                       Product Name  \n",
       "Order Date                                                                  \n",
       "2016-09-12       Labels                                          Avery 520  \n",
       "2016-09-25          Art             Turquoise Lead Holder with Pocket Clip  \n",
       "2017-12-30     Supplies  Acme Office Executive Series Stainless Steel T...  \n",
       "2015-10-18        Paper            Adams \"While You Were Out\" Message Pads  \n",
       "2018-04-24  Accessories                              V7 USB Numeric Keypad  \n",
       "...                 ...                                                ...  \n",
       "2018-07-27  Accessories    Sony Micro Vault Click 8 GB USB 2.0 Flash Drive  \n",
       "2018-11-21          Art                                         Newell 332  \n",
       "2017-06-20        Paper                                          Xerox 202  \n",
       "2016-10-09  Accessories          Logitech G19 Programmable Gaming Keyboard  \n",
       "2016-07-20    Bookcases  Atlantic Metals Mobile 3-Shelf Bookcases, Cust...  \n",
       "\n",
       "[7840 rows x 14 columns]"
      ]
     },
     "execution_count": 12,
     "metadata": {},
     "output_type": "execute_result"
    }
   ],
   "source": [
    "from sklearn.model_selection import train_test_split\n",
    "x = df.drop(['Sales','Order ID'], axis = 1)\n",
    "y = df['Sales']\n",
    "x_train, x_test, y_train, y_test = train_test_split(x, y, test_size = 0.2, random_state = 0)"
   ]
  },
  {
   "cell_type": "code",
   "execution_count": 1,
   "metadata": {},
   "outputs": [
    {
     "ename": "NameError",
     "evalue": "name 'df' is not defined",
     "output_type": "error",
     "traceback": [
      "\u001b[0;31m---------------------------------------------------------------------------\u001b[0m",
      "\u001b[0;31mNameError\u001b[0m                                 Traceback (most recent call last)",
      "Cell \u001b[0;32mIn[1], line 1\u001b[0m\n\u001b[0;32m----> 1\u001b[0m Top_states \u001b[39m=\u001b[39m df[\u001b[39m\"\u001b[39m\u001b[39mState\u001b[39m\u001b[39m\"\u001b[39m]\u001b[39m.\u001b[39mvalue_counts()\n\u001b[1;32m      2\u001b[0m \u001b[39m# Top_states.reset_index(inplace=True) # Since we have used groupby, we will have to reset the index to add the states into dataframe\u001b[39;00m\n\u001b[1;32m      3\u001b[0m \u001b[39m# Top_states.columns(['State', 'Density'])\u001b[39;00m\n\u001b[1;32m      4\u001b[0m Top_states\n",
      "\u001b[0;31mNameError\u001b[0m: name 'df' is not defined"
     ]
    }
   ],
   "source": [
    "Top_states = df[\"State\"].value_counts()\n",
    "# Top_states.reset_index(inplace=True) # Since we have used groupby, we will have to reset the index to add the states into dataframe\n",
    "# Top_states.columns(['State', 'Density'])\n",
    "Top_states"
   ]
  },
  {
   "cell_type": "code",
   "execution_count": 50,
   "metadata": {},
   "outputs": [
    {
     "data": {
      "text/plain": [
       "<Axes: xlabel='State'>"
      ]
     },
     "execution_count": 50,
     "metadata": {},
     "output_type": "execute_result"
    },
    {
     "data": {
      "image/png": "[encoded data removed]",
      "text/plain": [
       "<Figure size 640x480 with 1 Axes>"
      ]
     },
     "metadata": {},
     "output_type": "display_data"
    },
    {
     "ename": "",
     "evalue": "",
     "output_type": "error",
     "traceback": [
      "\u001b[1;31mThe Kernel crashed while executing code in the the current cell or a previous cell. Please review the code in the cell(s) to identify a possible cause of the failure. Click <a href='https://aka.ms/vscodeJupyterKernelCrash'>here</a> for more info. View Jupyter <a href='command:jupyter.viewOutput'>log</a> for further details."
     ]
    }
   ],
   "source": [
    "sns.barplot(data=Top_states,  x=Top_states.index, y=Top_states.values)    "
   ]
  },
  {
   "cell_type": "code",
   "execution_count": 24,
   "metadata": {},
   "outputs": [
    {
     "data": {
      "text/plain": [
       "California      1946\n",
       "New York        1097\n",
       "Texas            973\n",
       "Pennsylvania     582\n",
       "Washington       504\n",
       "Name: State, dtype: int64"
      ]
     },
     "execution_count": 24,
     "metadata": {},
     "output_type": "execute_result"
    }
   ],
   "source": [
    "Top_states.head()"
   ]
  },
  {
   "cell_type": "code",
   "execution_count": 3,
   "metadata": {},
   "outputs": [
    {
     "name": "stdout",
     "output_type": "stream",
     "text": [
      "[[19  0  0]\n",
      " [ 0 13  0]\n",
      " [ 0  0 13]]\n",
      "              precision    recall  f1-score   support\n",
      "\n",
      "           0       1.00      1.00      1.00        19\n",
      "           1       1.00      1.00      1.00        13\n",
      "           2       1.00      1.00      1.00        13\n",
      "\n",
      "    accuracy                           1.00        45\n",
      "   macro avg       1.00      1.00      1.00        45\n",
      "weighted avg       1.00      1.00      1.00        45\n",
      "\n"
     ]
    }
   ],
   "source": [
    "from sklearn.datasets import load_iris\n",
    "from sklearn.ensemble import RandomForestClassifier\n",
    "from sklearn.model_selection import train_test_split\n",
    "from sklearn.metrics import classification_report, confusion_matrix\n",
    "\n",
    "# Load data\n",
    "iris = load_iris()\n",
    "X = iris.data\n",
    "y = iris.target\n",
    "\n",
    "# Split data into training and testing sets\n",
    "X_train, X_test, y_train, y_test = train_test_split(X, y, test_size=0.3, random_state=42)\n",
    "\n",
    "# Create a Random Forest classifier with 100 trees\n",
    "rfc = RandomForestClassifier(n_estimators=100, random_state=42)\n",
    "\n",
    "# Train the model\n",
    "rfc.fit(X_train, y_train)\n",
    "\n",
    "# Predict on the test set\n",
    "y_pred = rfc.predict(X_test)\n",
    "\n",
    "# Evaluate the model\n",
    "print(confusion_matrix(y_test, y_pred))\n",
    "print(classification_report(y_test, y_pred))\n"
   ]
  },
  {
   "cell_type": "code",
   "execution_count": 6,
   "metadata": {},
   "outputs": [
    {
     "data": {
      "text/plain": [
       "array([0, 0, 0, 0, 0, 0, 0, 0, 0, 0, 0, 0, 0, 0, 0, 0, 0, 0, 0, 0, 0, 0,\n",
       "       0, 0, 0, 0, 0, 0, 0, 0, 0, 0, 0, 0, 0, 0, 0, 0, 0, 0, 0, 0, 0, 0,\n",
       "       0, 0, 0, 0, 0, 0, 1, 1, 1, 1, 1, 1, 1, 1, 1, 1, 1, 1, 1, 1, 1, 1,\n",
       "       1, 1, 1, 1, 1, 1, 1, 1, 1, 1, 1, 1, 1, 1, 1, 1, 1, 1, 1, 1, 1, 1,\n",
       "       1, 1, 1, 1, 1, 1, 1, 1, 1, 1, 1, 1, 2, 2, 2, 2, 2, 2, 2, 2, 2, 2,\n",
       "       2, 2, 2, 2, 2, 2, 2, 2, 2, 2, 2, 2, 2, 2, 2, 2, 2, 2, 2, 2, 2, 2,\n",
       "       2, 2, 2, 2, 2, 2, 2, 2, 2, 2, 2, 2, 2, 2, 2, 2, 2, 2])"
      ]
     },
     "execution_count": 6,
     "metadata": {},
     "output_type": "execute_result"
    }
   ],
   "source": [
    "y"
   ]
  }
 ],
 "metadata": {
  "kernelspec": {
   "display_name": "Python 3",
   "language": "python",
   "name": "python3"
  },
  "language_info": {
   "codemirror_mode": {
    "name": "ipython",
    "version": 3
   },
   "file_extension": ".py",
   "mimetype": "text/x-python",
   "name": "python",
   "nbconvert_exporter": "python",
   "pygments_lexer": "ipython3",
   "version": "3.10.7"
  },
  "orig_nbformat": 4
 },
 "nbformat": 4,
 "nbformat_minor": 2
}
